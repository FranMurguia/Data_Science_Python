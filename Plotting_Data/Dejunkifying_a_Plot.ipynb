{
 "cells": [
  {
   "cell_type": "code",
   "execution_count": 13,
   "metadata": {},
   "outputs": [],
   "source": [
    "%matplotlib notebook"
   ]
  },
  {
   "cell_type": "code",
   "execution_count": 14,
   "metadata": {},
   "outputs": [
    {
     "data": {
      "text/plain": [
       "'nbAgg'"
      ]
     },
     "execution_count": 14,
     "metadata": {},
     "output_type": "execute_result"
    }
   ],
   "source": [
    "import matplotlib as mpl\n",
    "mpl.get_backend()"
   ]
  },
  {
   "cell_type": "code",
   "execution_count": 1,
   "metadata": {},
   "outputs": [],
   "source": [
    "import matplotlib.pyplot as plt\n",
    "import pandas as pd\n",
    "import numpy as np"
   ]
  },
  {
   "cell_type": "code",
   "execution_count": 16,
   "metadata": {},
   "outputs": [
    {
     "data": {
      "image/png": "[encoded data removed]",
      "text/plain": [
       "<Figure size 432x288 with 1 Axes>"
      ]
     },
     "metadata": {
      "needs_background": "light"
     },
     "output_type": "display_data"
    }
   ],
   "source": [
    "plt.figure()\n",
    "\n",
    "languages = [\"Python\", \"SQL\", \"Java\", \"C++\", \"JavaScript\"]\n",
    "popularity = [56, 39, 34, 34, 29]\n",
    "position = np.arange(len(languages))\n",
    "\n",
    "plt.bar(position, popularity, align=\"center\")\n",
    "\n",
    "plt.xticks(position, languages)\n",
    "plt.ylabel(\"% Popularity\")\n",
    "plt.title(\"Top 5 Languages for Math & Data \\nby % popularity on Stack Overflow\", alpha=0.8)\n",
    "\n",
    "# remove all the ticks (both axes), and tick labels on the Y axis\n",
    "plt.tick_params(top = False,\n",
    "                bottom = False,\n",
    "                left = False,\n",
    "                right = False,\n",
    "                labelleft = False,\n",
    "                labelbottom = True)\n",
    "\n",
    "plt.show()"
   ]
  },
  {
   "cell_type": "code",
   "execution_count": 17,
   "metadata": {},
   "outputs": [
    {
     "data": {
      "image/png": "[encoded data removed]",
      "text/plain": [
       "<Figure size 432x288 with 1 Axes>"
      ]
     },
     "metadata": {
      "needs_background": "light"
     },
     "output_type": "display_data"
    }
   ],
   "source": [
    "plt.figure()\n",
    "\n",
    "languages = [\"Python\", \"SQL\", \"Java\", \"C++\", \"JavaScript\"]\n",
    "popularity = [56, 39, 34, 34, 29]\n",
    "position = np.arange(len(languages))\n",
    "\n",
    "plt.bar(position, popularity, align=\"center\")\n",
    "\n",
    "plt.xticks(position, languages)\n",
    "plt.ylabel(\"% Popularity\")\n",
    "plt.title(\"Top 5 Languages for Math & Data \\nby % popularity on Stack Overflow\", alpha=0.8)\n",
    "\n",
    "# remove all the ticks (both axes), and tick labels on the Y axis\n",
    "plt.tick_params(top = False,\n",
    "                bottom = False,\n",
    "                left = False,\n",
    "                right = False,\n",
    "                labelleft = False,\n",
    "                labelbottom = True)\n",
    "\n",
    "# remove the frame of the chart\n",
    "for spine in plt.gca().spines.values():\n",
    "    spine.set_visible(False)\n",
    "\n",
    "plt.show()"
   ]
  },
  {
   "cell_type": "code",
   "execution_count": 33,
   "metadata": {},
   "outputs": [
    {
     "data": {
      "image/png": "[encoded data removed]",
      "text/plain": [
       "<Figure size 432x288 with 1 Axes>"
      ]
     },
     "metadata": {
      "needs_background": "light"
     },
     "output_type": "display_data"
    }
   ],
   "source": [
    "plt.figure()\n",
    "\n",
    "languages = [\"Python\", \"SQL\", \"Java\", \"C++\", \"JavaScript\"]\n",
    "popularity = [56, 39, 34, 34, 29]\n",
    "position = np.arange(len(languages))\n",
    "\n",
    "# Change the bar colors to be less bright blue\n",
    "bars = plt.bar(position, popularity, align=\"center\", color=\"lightslategrey\")\n",
    "\n",
    "# Make one bar, the python bar, a contrasting color\n",
    "bars[0].set_color('#1F77B4')\n",
    "\n",
    "# Soften all labels by turning grey\n",
    "plt.xticks(position, languages, alpha = 0.8)\n",
    "\n",
    "# Remove the Y label since bars are directly labeled\n",
    "#plt.ylabel(\"% Popularity\", alpha=0.8)\n",
    "\n",
    "plt.title(\"Top 5 Languages for Math & Data \\nby % popularity on Stack Overflow\", alpha=0.8)\n",
    "\n",
    "# Remove all the ticks (both axes), and tick labels on the Y axis\n",
    "plt.tick_params(top = False,\n",
    "                bottom = False,\n",
    "                left = False,\n",
    "                right = False,\n",
    "                labelleft = False,\n",
    "                labelbottom = True)\n",
    "\n",
    "# Remove the frame of the chart\n",
    "for spine in plt.gca().spines.values():\n",
    "    spine.set_visible(False)\n",
    "\n",
    "# Direct label each bar with Y axis values\n",
    "for bar in bars:\n",
    "    plt.gca().text(\n",
    "        bar.get_x() + bar.get_width()/2, # X Position\n",
    "        bar.get_height()/2, # Y Position\n",
    "        str(int(bar.get_height())) + '%', # Text of the bar\n",
    "        ha='center', # Center the text\n",
    "        color='w', # Color of the text\n",
    "        fontsize=11) # Size of the text\n",
    "\n",
    "plt.show()"
   ]
  },
  {
   "cell_type": "code",
   "execution_count": null,
   "metadata": {},
   "outputs": [],
   "source": []
  }
 ],
 "metadata": {
  "kernelspec": {
   "display_name": "Python 3",
   "language": "python",
   "name": "python3"
  },
  "language_info": {
   "codemirror_mode": {
    "name": "ipython",
    "version": 3
   },
   "file_extension": ".py",
   "mimetype": "text/x-python",
   "name": "python",
   "nbconvert_exporter": "python",
   "pygments_lexer": "ipython3",
   "version": "3.8.3"
  }
 },
 "nbformat": 4,
 "nbformat_minor": 4
}
